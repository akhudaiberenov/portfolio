{
 "cells": [
  {
   "cell_type": "code",
   "execution_count": null,
   "metadata": {
    "colab": {
     "base_uri": "https://localhost:8080/"
    },
    "id": "KU_SjTO6c5ya",
    "outputId": "404c3c72-0fdc-4cf5-c891-73895afa0edf"
   },
   "outputs": [
    {
     "name": "stdout",
     "output_type": "stream",
     "text": [
      "2.5.0\n"
     ]
    }
   ],
   "source": [
    "import numpy as np\n",
    "import tensorflow as tf\n",
    "import pandas as pd\n",
    "print(tf.__version__)\n",
    "\n",
    "import matplotlib.pyplot as plt\n",
    "%matplotlib inline"
   ]
  },
  {
   "cell_type": "markdown",
   "metadata": {
    "id": "lTFdAMFBd210"
   },
   "source": [
    "## Подготовка данных\n"
   ]
  },
  {
   "cell_type": "code",
   "execution_count": null,
   "metadata": {
    "id": "JqHgplROdyOf"
   },
   "outputs": [],
   "source": [
    "train_data = pd.read_csv('train_data.txt', header=None, sep=\":::\", engine='python')\n",
    "train_data.rename(columns={0: \"ID\", 1: \"TITLE\", 2: \"GENRE\", 3: \"DESCRIPTION\"}, inplace=True)\n",
    "test_data = pd.read_csv('test_data_solution.txt', header=None, sep=\":::\", engine='python')\n",
    "test_data.rename(columns={0: \"ID\", 1: \"TITLE\", 2: \"GENRE\", 3: \"DESCRIPTION\"}, inplace=True)"
   ]
  },
  {
   "cell_type": "code",
   "execution_count": null,
   "metadata": {
    "colab": {
     "base_uri": "https://localhost:8080/"
    },
    "id": "maL2L1Ln5Ufj",
    "outputId": "98751a45-2ff2-4263-87a0-f1270367d73f"
   },
   "outputs": [
    {
     "name": "stdout",
     "output_type": "stream",
     "text": [
      "[nltk_data] Downloading package wordnet to /root/nltk_data...\n",
      "[nltk_data]   Unzipping corpora/wordnet.zip.\n",
      "[nltk_data] Downloading package punkt to ....\n",
      "[nltk_data]   Package punkt is already up-to-date!\n"
     ]
    },
    {
     "data": {
      "text/plain": [
       "True"
      ]
     },
     "execution_count": 5,
     "metadata": {
      "tags": []
     },
     "output_type": "execute_result"
    }
   ],
   "source": [
    "import nltk\n",
    "nltk.download('wordnet')\n",
    "from nltk.stem import WordNetLemmatizer \n",
    "lemmatizer = WordNetLemmatizer()\n",
    "import string\n",
    "\n",
    "# дополнительный словарь со знаками пунктуации\n",
    "nltk.download('punkt', download_dir='.')"
   ]
  },
  {
   "cell_type": "code",
   "execution_count": null,
   "metadata": {
    "id": "_1eOTFrklChN"
   },
   "outputs": [],
   "source": [
    "# стоп слова\n",
    "stop_words = [\n",
    "    'i', 'me', 'my', 'myself', 'we', 'our', 'ours', 'ourselves', 'you', \"you're\", \"you've\", \"you'll\", \"you'd\",\n",
    "    'your', 'yours', 'yourself', 'yourselves', 'he', 'him', 'his', 'himself', 'she', \"she's\", 'her', 'hers',\n",
    "    'herself', 'it', \"it's\", 'its', 'itself', 'they', 'them', 'their', 'theirs', 'themselves', 'what', 'which',\n",
    "    'who', 'whom', 'this', 'that', \"that'll\", 'these', 'those', 'am', 'is', 'are', 'was', 'were', 'be', 'been',\n",
    "    'being', 'have', 'has', 'had', 'having', 'do', 'does', 'did', 'doing', 'a', 'an', 'the', 'and', 'but', 'if',\n",
    "    'or', 'because', 'as', 'until', 'while', 'of', 'at', 'by', 'for', 'with', 'about', 'against', 'between',\n",
    "    'into', 'through', 'during', 'before', 'after', 'above', 'below', 'to', 'from', 'up', 'down', 'in', 'out',\n",
    "    'on', 'off', 'over', 'under', 'again', 'further', 'then', 'once', 'here', 'there', 'when', 'where', 'why',\n",
    "    'how', 'all', 'any', 'both', 'each', 'few', 'more', 'most', 'other', 'some', 'such', 'no', 'nor', 'not',\n",
    "    'only', 'own', 'same', 'so', 'than', 'too', 'very', 's', 't', 'can', 'will', 'just', 'don', \"don't\", 'shold',\n",
    "    \"should've\", 'now', 'd', 'll', 'm', 'o', 're', 've', 'y', 'ain', 'aren', \"aren't\", 'couldn', \"couldn't\",\n",
    "    'didn', \"didn't\", 'doesn', \"doesn't\", 'hadn', \"hadn't\", 'hasn', \"hasn't\", 'haven', \"haven't\", 'isn', \"isn't\",\n",
    "    'ma', 'mightn', \"mightn't\", 'mustn', \"mustn't\", 'needn', \"needn't\", 'shan', \"shan't\", 'shouldn', \"shouldn't\",\n",
    "    'wasn', \"wasn't\", 'weren', \"weren't\", 'won', \"won't\", 'wouldn', \"wouldn't\", \"'s\", \"''\", '``'\n",
    "]"
   ]
  },
  {
   "cell_type": "markdown",
   "metadata": {},
   "source": [
    "#### Разбиение на строки и очистка текста"
   ]
  },
  {
   "cell_type": "code",
   "execution_count": null,
   "metadata": {
    "id": "5Ko80Gd2iGTe"
   },
   "outputs": [],
   "source": [
    "def tokenize_text(raw_text: str):\n",
    "    \"\"\"Функция для токенизации текста\n",
    "\n",
    "    :param raw_text: исходная текстовая строка\n",
    "    \"\"\"\n",
    "    tokenized_str = nltk.word_tokenize(raw_text)  # разделяем текст на токены\n",
    "    tokens = [i.lower() for i in tokenized_str if ( i not in string.punctuation )]  # приводим к нижнему регистру и удаляем пунктуацию\n",
    "    filtered_tokens = [i for i in tokens if ( i not in stop_words )]  # удаляем стоп слова\n",
    "    filtered_and_lemmatized_tokens = [lemmatizer.lemmatize(w) for w in filtered_tokens] # лематимизируем слова\n",
    "    return filtered_and_lemmatized_tokens\n",
    "\n",
    "copy_train_data = train_data.copy()\n",
    "tokenized_data = copy_train_data.DESCRIPTION.apply(tokenize_text)"
   ]
  },
  {
   "cell_type": "code",
   "execution_count": null,
   "metadata": {
    "colab": {
     "base_uri": "https://localhost:8080/"
    },
    "id": "y1T-PQKo5ZUy",
    "outputId": "994b6829-03e9-449d-bbc3-ca30dfc3cda5"
   },
   "outputs": [
    {
     "name": "stderr",
     "output_type": "stream",
     "text": [
      "/usr/local/lib/python3.7/dist-packages/ipykernel_launcher.py:1: VisibleDeprecationWarning: Creating an ndarray from ragged nested sequences (which is a list-or-tuple of lists-or-tuples-or ndarrays with different lengths or shapes) is deprecated. If you meant to do this, you must specify 'dtype=object' when creating the ndarray\n",
      "  \"\"\"Entry point for launching an IPython kernel.\n"
     ]
    }
   ],
   "source": [
    "tokenized_word_array = np.array([i for i in tokenized_data])\n",
    "tokenized_word_list = []\n",
    "for i in tokenized_data:\n",
    "    tokenized_word_list += i"
   ]
  },
  {
   "cell_type": "code",
   "execution_count": null,
   "metadata": {
    "colab": {
     "base_uri": "https://localhost:8080/"
    },
    "id": "fW_6C7YylWEI",
    "outputId": "cae4a9bf-c42a-4ae6-fdb8-5b46a72bef86"
   },
   "outputs": [
    {
     "data": {
      "text/plain": [
       "139172"
      ]
     },
     "execution_count": 9,
     "metadata": {
      "tags": []
     },
     "output_type": "execute_result"
    }
   ],
   "source": [
    "len(set(tokenized_word_list))"
   ]
  },
  {
   "cell_type": "markdown",
   "metadata": {},
   "source": [
    "#### Отбор наиболее распространенных токенов"
   ]
  },
  {
   "cell_type": "code",
   "execution_count": null,
   "metadata": {
    "id": "-el7c0n_tHWt"
   },
   "outputs": [],
   "source": [
    "from collections import Counter\n",
    "most_common_words = Counter(tokenized_word_list).most_common(9997)\n",
    "most_common_words = [i for i, k in most_common_words]"
   ]
  },
  {
   "cell_type": "markdown",
   "metadata": {},
   "source": [
    "#### Нумерация строк"
   ]
  },
  {
   "cell_type": "code",
   "execution_count": null,
   "metadata": {
    "id": "13_RPTBR5Q4V"
   },
   "outputs": [],
   "source": [
    "word_index = {}\n",
    "word_num = -1\n",
    "for i in most_common_words:\n",
    "    word_num += 1\n",
    "    word_index[i] = word_num"
   ]
  },
  {
   "cell_type": "code",
   "execution_count": null,
   "metadata": {
    "id": "nu58Fvkqc8O5"
   },
   "outputs": [],
   "source": [
    "word_index = {k:(v+3) for k,v in word_index.items()} \n",
    "word_index[\"<PAD>\"] = 0\n",
    "word_index[\"<START>\"] = 1\n",
    "word_index[\"<UNKNOWN>\"] = 2\n",
    "\n",
    "reverse_word_index = dict([(value, key) for (key, value) in word_index.items()])\n",
    "\n",
    "# последовательность индексов в текст\n",
    "def decode_review(text):\n",
    "    return ' '.join([reverse_word_index.get(i, '?') for i in text])\n",
    "\n",
    "# текст в последовательность индексов\n",
    "def encode_review(words):\n",
    "    words = ['<START>'] + words\n",
    "    idxs = [word_index.get(word, word_index['<UNKNOWN>']) for word in words]\n",
    "    return idxs"
   ]
  },
  {
   "cell_type": "code",
   "execution_count": null,
   "metadata": {
    "id": "sh-CSuee-lWN"
   },
   "outputs": [],
   "source": [
    "train_data_x = train_data.copy().DESCRIPTION.apply(tokenize_text)\n",
    "test_data_x = test_data.copy().DESCRIPTION.apply(tokenize_text)"
   ]
  },
  {
   "cell_type": "code",
   "execution_count": null,
   "metadata": {
    "colab": {
     "base_uri": "https://localhost:8080/"
    },
    "id": "gRgm9OU4AVub",
    "outputId": "ec4b3d98-2b0f-4f2d-b28b-834bd064f2e4"
   },
   "outputs": [
    {
     "name": "stdout",
     "output_type": "stream",
     "text": [
      "Example of a encoded review: \n",
      "[1, 211, 4122, 2061, 123, 2546, 2922, 891, 3099, 4470, 2217, 2225, 5, 35, 156, 2, 4, 379, 5, 2, 8228, 7041, 2, 35, 1292, 5, 5258, 11, 7856, 821, 1009, 1666, 278, 8036, 2, 701, 546, 620, 8778, 2922, 891, 197, 2, 1361, 156, 2, 2, 2, 2626, 8225, 5, 2044, 73, 5438, 6143, 646, 2, 825, 2, 43, 2, 3548, 4710, 1698, 9356, 205, 446, 174, 120, 4088, 396, 28, 1119, 51, 478, 6143, 544, 3027, 147, 2554, 3521, 237, 2922, 891, 153, 6407, 42, 3318, 2, 3548, 2]\n"
     ]
    }
   ],
   "source": [
    "print('Example of a encoded review: \\n{}'.format(encode_review(test_data_x[4])))"
   ]
  },
  {
   "cell_type": "code",
   "execution_count": null,
   "metadata": {
    "colab": {
     "base_uri": "https://localhost:8080/"
    },
    "id": "Mx7JeYYqnhAg",
    "outputId": "7352246f-30c2-4160-9a93-76406b47ada6"
   },
   "outputs": [
    {
     "data": {
      "text/plain": [
       "0        [listening, conversation, doctor, parent, 10-y...\n",
       "1        [brother, sister, past, incestuous, relationsh...\n",
       "2        [bus, empty, student, field, trip, museum, nat...\n",
       "3        [help, unemployed, father, make, end, meet, ed...\n",
       "4        [film, title, refers, un-recovered, body, grou...\n",
       "                               ...                        \n",
       "54209    [short-lived, nbc, live, sitcom, centered, bon...\n",
       "54210    [next, generation, exploitation, sister, kapa,...\n",
       "54211    [ze, bestaan, echt, stand-up, comedy, growing,...\n",
       "54212    [walter, vivian, live, country, difficult, tim...\n",
       "54213    [labor, day, weekend, 1935, intense, hurricane...\n",
       "Name: DESCRIPTION, Length: 54214, dtype: object"
      ]
     },
     "execution_count": 15,
     "metadata": {
      "tags": []
     },
     "output_type": "execute_result"
    }
   ],
   "source": [
    "train_data_x"
   ]
  },
  {
   "cell_type": "code",
   "execution_count": null,
   "metadata": {
    "id": "n1B6sOYADNr7"
   },
   "outputs": [],
   "source": [
    "list_train_data = []\n",
    "for i in range(len(train_data_x)):\n",
    "    list_train_data.append(encode_review(train_data_x[i]))\n",
    "list_test_data = []\n",
    "for i in range(len(test_data_x)):\n",
    "    list_test_data.append(encode_review(test_data_x[i]))"
   ]
  },
  {
   "cell_type": "code",
   "execution_count": null,
   "metadata": {
    "id": "TB_NnTxnFUio"
   },
   "outputs": [],
   "source": [
    "train_data_array = np.array(list_train_data, dtype='object')\n",
    "test_data_array = np.array(list_test_data, dtype='object')"
   ]
  },
  {
   "cell_type": "code",
   "execution_count": null,
   "metadata": {
    "id": "vZtAQsDWK1UV"
   },
   "outputs": [],
   "source": [
    "train_data_y = train_data.copy().GENRE.values\n",
    "test_data_y = test_data.copy().GENRE.values"
   ]
  },
  {
   "cell_type": "code",
   "execution_count": null,
   "metadata": {
    "id": "nkxW5pBiJ0Lg"
   },
   "outputs": [],
   "source": [
    "genre_index = {}\n",
    "genre_num = -1\n",
    "for i in set(train_data_y):\n",
    "    genre_num += 1\n",
    "    genre_index[i] = genre_num\n",
    "\n",
    "genre = {v: k for k, v in genre_index.items()}\n",
    "\n",
    "def encode_genre(genre_index, genres_list):\n",
    "    encoded_genres_list = [genre_index[i] for i in genres_list]\n",
    "    return np.array(encoded_genres_list)"
   ]
  },
  {
   "cell_type": "code",
   "execution_count": null,
   "metadata": {
    "id": "d0tPAbJVNjpP"
   },
   "outputs": [],
   "source": [
    "train_y_data = encode_genre(genre_index, train_data_y)\n",
    "test_y_data = encode_genre(genre_index, test_data_y)"
   ]
  },
  {
   "cell_type": "code",
   "execution_count": null,
   "metadata": {
    "colab": {
     "base_uri": "https://localhost:8080/"
    },
    "id": "E63eicx8dCIi",
    "outputId": "dbf095d1-3a83-4dcd-c0ad-e4f6a0c1e2c3"
   },
   "outputs": [
    {
     "name": "stdout",
     "output_type": "stream",
     "text": [
      "Length examples: [48, 48]\n",
      "=====================================\n",
      "Entry example: [ 132 7851 2537  366 1989 1333   65  345   62 3984  670 1342  745 1699\n",
      "    2 1108  443 4527   41  450 7508  758  916 1108  742 9322  117  516\n",
      " 5148 1602 2845 2352 1712 2537   62    3   14  349  210   19 1182    2\n",
      "    2    2  392 2301 6663  850]\n"
     ]
    }
   ],
   "source": [
    "MAX_SEQ_LEN = 48 # Финальная длина последовательности\n",
    "\n",
    "train_x_data = tf.keras.preprocessing.sequence.pad_sequences(\n",
    "    train_data_array,\n",
    "    value=word_index[\"<PAD>\"],\n",
    "    padding='post',\n",
    "    maxlen=MAX_SEQ_LEN)\n",
    "\n",
    "test_x_data = tf.keras.preprocessing.sequence.pad_sequences(\n",
    "    test_data_array,\n",
    "    value=word_index[\"<PAD>\"],\n",
    "    padding='post',\n",
    "    maxlen=MAX_SEQ_LEN)\n",
    "\n",
    "print(\"Length examples: {}\".format([len(train_x_data[0]), len(train_x_data[1])]))\n",
    "print('=====================================')\n",
    "print(\"Entry example: {}\".format(train_x_data[0]))"
   ]
  },
  {
   "cell_type": "code",
   "execution_count": null,
   "metadata": {
    "colab": {
     "base_uri": "https://localhost:8080/"
    },
    "id": "7UBweZLdBZc7",
    "outputId": "feb75ed8-1a98-463e-f218-d1a7ed52d1e7"
   },
   "outputs": [
    {
     "data": {
      "text/plain": [
       "array([1161, 3711,    2, 1860, 4813, 2302, 1777,    5,  206,    2,    2,\n",
       "       2059,    2, 2084,  295,  232,  298,   34,  306,  574,    2, 1076,\n",
       "        507,  707, 1693,  206, 1015, 1386, 1007,  232,    5,  345, 2810,\n",
       "       3419, 3127, 1215,    2, 1153,   15,  476, 5905, 2666,  502,  704,\n",
       "          2, 5097, 8091,    2], dtype=int32)"
      ]
     },
     "execution_count": 23,
     "metadata": {
      "tags": []
     },
     "output_type": "execute_result"
    }
   ],
   "source": [
    "train_x_data[5]"
   ]
  },
  {
   "cell_type": "code",
   "execution_count": null,
   "metadata": {
    "colab": {
     "base_uri": "https://localhost:8080/"
    },
    "id": "IiWXs_A87d4U",
    "outputId": "ca10bb69-e1de-46d8-98a5-74396dc85084"
   },
   "outputs": [
    {
     "data": {
      "text/plain": [
       "32"
      ]
     },
     "execution_count": 24,
     "metadata": {
      "tags": []
     },
     "output_type": "execute_result"
    }
   ],
   "source": [
    "max_len = 0\n",
    "for i in range(len(train_data_array)):\n",
    "    len_ = len(train_data_array[i])\n",
    "    if len_ > max_len:\n",
    "        max_len = len_\n",
    "len_"
   ]
  },
  {
   "cell_type": "markdown",
   "metadata": {},
   "source": [
    "#### Создание модели"
   ]
  },
  {
   "cell_type": "code",
   "execution_count": null,
   "metadata": {
    "colab": {
     "base_uri": "https://localhost:8080/"
    },
    "id": "Uq2aUdpYdCys",
    "outputId": "15e01c2e-f5e5-4adb-c58e-961e014f499f"
   },
   "outputs": [
    {
     "name": "stdout",
     "output_type": "stream",
     "text": [
      "Model: \"sequential_2\"\n",
      "_________________________________________________________________\n",
      "Layer (type)                 Output Shape              Param #   \n",
      "=================================================================\n",
      "embedding_2 (Embedding)      (None, None, 64)          640000    \n",
      "_________________________________________________________________\n",
      "bidirectional_4 (Bidirection (None, None, 256)         197632    \n",
      "_________________________________________________________________\n",
      "bidirectional_5 (Bidirection (None, 256)               394240    \n",
      "_________________________________________________________________\n",
      "dense_2 (Dense)              (None, 27)                6939      \n",
      "=================================================================\n",
      "Total params: 1,238,811\n",
      "Trainable params: 1,238,811\n",
      "Non-trainable params: 0\n",
      "_________________________________________________________________\n"
     ]
    }
   ],
   "source": [
    "EMB_SIZE = 64 # Размер векторного представления (эмбеддинга)\n",
    "VOCAB_SIZE = 10000\n",
    "    \n",
    "model = tf.keras.Sequential([\n",
    "    tf.keras.layers.Embedding(VOCAB_SIZE, EMB_SIZE),\n",
    "    tf.keras.layers.Bidirectional(\n",
    "        tf.keras.layers.LSTM(128, return_sequences=True, dropout=0.4, recurrent_dropout=0.4)),\n",
    "    tf.keras.layers.Bidirectional(\n",
    "        tf.keras.layers.LSTM(128, return_sequences=False, dropout=0.4, recurrent_dropout=0.4)),\n",
    "    tf.keras.layers.Dense(len(genre_index), activation='softmax'),\n",
    "])\n",
    "\n",
    "model.summary()"
   ]
  },
  {
   "cell_type": "code",
   "execution_count": null,
   "metadata": {
    "id": "ATVe34nWYum6"
   },
   "outputs": [],
   "source": [
    "from pathlib import Path\n",
    "path = Path(\"/content/drive/My Drive/Skillbox/class_text_model\")\n",
    "path.mkdir(exist_ok=True, parents=True) # папка создается на вашем гугл диске. вместе с \"родителями\"\n",
    "assert path.exists()\n",
    "cpt_filename = \"checkpoint_best.h5\"\n",
    "cpt_path = str(path / cpt_filename)\n",
    "\n",
    "checkpoint = tf.keras.callbacks.ModelCheckpoint(cpt_path, monitor='val_accuracy', verbose=0, save_best_only=True, mode='max')"
   ]
  },
  {
   "cell_type": "code",
   "execution_count": null,
   "metadata": {
    "colab": {
     "base_uri": "https://localhost:8080/"
    },
    "collapsed": true,
    "id": "qTdSJTibY4pP",
    "outputId": "ebf6bde5-e1b1-4ecd-b7df-02d5095a45d9"
   },
   "outputs": [
    {
     "name": "stdout",
     "output_type": "stream",
     "text": [
      "Collecting livelossplot\n",
      "  Downloading https://files.pythonhosted.org/packages/57/26/840be243088ce142d61c60273408ec09fa1de4534056a56d6e91b73f0cae/livelossplot-0.5.4-py3-none-any.whl\n",
      "Requirement already satisfied: bokeh in /usr/local/lib/python3.7/dist-packages (from livelossplot) (2.3.2)\n",
      "Requirement already satisfied: ipython in /usr/local/lib/python3.7/dist-packages (from livelossplot) (5.5.0)\n",
      "Requirement already satisfied: matplotlib in /usr/local/lib/python3.7/dist-packages (from livelossplot) (3.2.2)\n",
      "Requirement already satisfied: pillow>=7.1.0 in /usr/local/lib/python3.7/dist-packages (from bokeh->livelossplot) (7.1.2)\n",
      "Requirement already satisfied: tornado>=5.1 in /usr/local/lib/python3.7/dist-packages (from bokeh->livelossplot) (5.1.1)\n",
      "Requirement already satisfied: Jinja2>=2.9 in /usr/local/lib/python3.7/dist-packages (from bokeh->livelossplot) (2.11.3)\n",
      "Requirement already satisfied: PyYAML>=3.10 in /usr/local/lib/python3.7/dist-packages (from bokeh->livelossplot) (3.13)\n",
      "Requirement already satisfied: typing-extensions>=3.7.4 in /usr/local/lib/python3.7/dist-packages (from bokeh->livelossplot) (3.7.4.3)\n",
      "Requirement already satisfied: packaging>=16.8 in /usr/local/lib/python3.7/dist-packages (from bokeh->livelossplot) (20.9)\n",
      "Requirement already satisfied: numpy>=1.11.3 in /usr/local/lib/python3.7/dist-packages (from bokeh->livelossplot) (1.19.5)\n",
      "Requirement already satisfied: python-dateutil>=2.1 in /usr/local/lib/python3.7/dist-packages (from bokeh->livelossplot) (2.8.1)\n",
      "Requirement already satisfied: simplegeneric>0.8 in /usr/local/lib/python3.7/dist-packages (from ipython->livelossplot) (0.8.1)\n",
      "Requirement already satisfied: prompt-toolkit<2.0.0,>=1.0.4 in /usr/local/lib/python3.7/dist-packages (from ipython->livelossplot) (1.0.18)\n",
      "Requirement already satisfied: pygments in /usr/local/lib/python3.7/dist-packages (from ipython->livelossplot) (2.6.1)\n",
      "Requirement already satisfied: traitlets>=4.2 in /usr/local/lib/python3.7/dist-packages (from ipython->livelossplot) (5.0.5)\n",
      "Requirement already satisfied: decorator in /usr/local/lib/python3.7/dist-packages (from ipython->livelossplot) (4.4.2)\n",
      "Requirement already satisfied: setuptools>=18.5 in /usr/local/lib/python3.7/dist-packages (from ipython->livelossplot) (56.1.0)\n",
      "Requirement already satisfied: pexpect; sys_platform != \"win32\" in /usr/local/lib/python3.7/dist-packages (from ipython->livelossplot) (4.8.0)\n",
      "Requirement already satisfied: pickleshare in /usr/local/lib/python3.7/dist-packages (from ipython->livelossplot) (0.7.5)\n",
      "Requirement already satisfied: kiwisolver>=1.0.1 in /usr/local/lib/python3.7/dist-packages (from matplotlib->livelossplot) (1.3.1)\n",
      "Requirement already satisfied: pyparsing!=2.0.4,!=2.1.2,!=2.1.6,>=2.0.1 in /usr/local/lib/python3.7/dist-packages (from matplotlib->livelossplot) (2.4.7)\n",
      "Requirement already satisfied: cycler>=0.10 in /usr/local/lib/python3.7/dist-packages (from matplotlib->livelossplot) (0.10.0)\n",
      "Requirement already satisfied: MarkupSafe>=0.23 in /usr/local/lib/python3.7/dist-packages (from Jinja2>=2.9->bokeh->livelossplot) (2.0.1)\n",
      "Requirement already satisfied: six>=1.5 in /usr/local/lib/python3.7/dist-packages (from python-dateutil>=2.1->bokeh->livelossplot) (1.15.0)\n",
      "Requirement already satisfied: wcwidth in /usr/local/lib/python3.7/dist-packages (from prompt-toolkit<2.0.0,>=1.0.4->ipython->livelossplot) (0.2.5)\n",
      "Requirement already satisfied: ipython-genutils in /usr/local/lib/python3.7/dist-packages (from traitlets>=4.2->ipython->livelossplot) (0.2.0)\n",
      "Requirement already satisfied: ptyprocess>=0.5 in /usr/local/lib/python3.7/dist-packages (from pexpect; sys_platform != \"win32\"->ipython->livelossplot) (0.7.0)\n",
      "Installing collected packages: livelossplot\n",
      "Successfully installed livelossplot-0.5.4\n"
     ]
    }
   ],
   "source": [
    "!pip install livelossplot\n",
    "from livelossplot.inputs.tf_keras import PlotLossesCallback"
   ]
  },
  {
   "cell_type": "code",
   "execution_count": null,
   "metadata": {
    "id": "H54ENciddJCx"
   },
   "outputs": [],
   "source": [
    "optimizer = tf.keras.optimizers.Adam(learning_rate=0.001)\n",
    "model.compile(optimizer=optimizer,\n",
    "              loss='sparse_categorical_crossentropy',\n",
    "              metrics=['acc'])"
   ]
  },
  {
   "cell_type": "markdown",
   "metadata": {},
   "source": [
    "#### Обучение"
   ]
  },
  {
   "cell_type": "code",
   "execution_count": null,
   "metadata": {
    "colab": {
     "base_uri": "https://localhost:8080/",
     "height": 704
    },
    "id": "qlnGNMrkdPjx",
    "outputId": "32aecad7-6c59-4431-91ab-cad738522e6f"
   },
   "outputs": [
    {
     "data": {
      "image/png": "[encoded data removed]",
      "text/plain": [
       "<Figure size 864x576 with 2 Axes>"
      ]
     },
     "metadata": {
      "needs_background": "light",
      "tags": []
     },
     "output_type": "display_data"
    },
    {
     "name": "stdout",
     "output_type": "stream",
     "text": [
      "Accuracy\n",
      "\ttraining         \t (min:    0.243, max:    0.673, cur:    0.634)\n",
      "\tvalidation       \t (min:    0.242, max:    0.541, cur:    0.538)\n",
      "Loss\n",
      "\ttraining         \t (min:    1.104, max:    2.699, cur:    1.243)\n",
      "\tvalidation       \t (min:    1.588, max:    2.375, cur:    1.592)\n",
      "WARNING:tensorflow:Can save best model only with val_accuracy available, skipping.\n"
     ]
    }
   ],
   "source": [
    "BATCH_SIZE = 128\n",
    "NUM_EPOCHS = 100\n",
    "\n",
    "history = model.fit(train_x_data,\n",
    "                    train_y_data,\n",
    "                    epochs=NUM_EPOCHS,\n",
    "                    batch_size=BATCH_SIZE,\n",
    "                    validation_data=(test_x_data, test_y_data),\n",
    "                    steps_per_epoch=20,\n",
    "                    callbacks=[PlotLossesCallback(), checkpoint])"
   ]
  },
  {
   "cell_type": "markdown",
   "metadata": {},
   "source": [
    "#### Инференс"
   ]
  },
  {
   "cell_type": "code",
   "execution_count": null,
   "metadata": {
    "id": "X_XjkU_EItt3"
   },
   "outputs": [],
   "source": [
    "def pred_genre_movie(text: str):\n",
    "    tokenized_text = tokenize_text(text)\n",
    "    encoded_text = encode_review(tokenized_text)\n",
    "    predicted_genre = np.argmax(model.predict(np.array(encoded_text)[None, :]))\n",
    "    return predicted_genre"
   ]
  },
  {
   "cell_type": "code",
   "execution_count": null,
   "metadata": {
    "colab": {
     "base_uri": "https://localhost:8080/",
     "height": 35
    },
    "id": "ZnyJoX7KKeBJ",
    "outputId": "fdfb9f5c-30b9-4baa-b212-cb7e11be4a58"
   },
   "outputs": [
    {
     "data": {
      "application/vnd.google.colaboratory.intrinsic+json": {
       "type": "string"
      },
      "text/plain": [
       "' horror '"
      ]
     },
     "execution_count": 43,
     "metadata": {
      "tags": []
     },
     "output_type": "execute_result"
    }
   ],
   "source": [
    "text = \"It was the most scary movie I have ever seen\"\n",
    "pred_genre_movie(text)"
   ]
  }
 ],
 "metadata": {
  "colab": {
   "collapsed_sections": [],
   "name": "ДЗ.ipynb",
   "provenance": []
  },
  "kernelspec": {
   "display_name": "Python 3",
   "language": "python",
   "name": "python3"
  },
  "language_info": {
   "codemirror_mode": {
    "name": "ipython",
    "version": 3
   },
   "file_extension": ".py",
   "mimetype": "text/x-python",
   "name": "python",
   "nbconvert_exporter": "python",
   "pygments_lexer": "ipython3",
   "version": "3.8.5"
  }
 },
 "nbformat": 4,
 "nbformat_minor": 1
}
